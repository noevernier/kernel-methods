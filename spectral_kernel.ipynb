{
 "cells": [
  {
   "cell_type": "code",
   "execution_count": 44,
   "metadata": {},
   "outputs": [],
   "source": [
    "import pandas as pd\n",
    "import numpy as np\n",
    "from scipy.sparse import lil_matrix\n",
    "from cvxopt import matrix, solvers\n",
    "solvers.options['show_progress'] = False\n",
    "from tqdm import tqdm"
   ]
  },
  {
   "cell_type": "code",
   "execution_count": 45,
   "metadata": {},
   "outputs": [],
   "source": [
    "class KmerKernel:\n",
    "    def __init__(self, kmin=7, kmax=20):\n",
    "        \"\"\"\n",
    "        Parameters\n",
    "        ----------\n",
    "        kmin : int\n",
    "            Minimum k-mer length.\n",
    "        kmax : int\n",
    "            Maximum k-mer length.\n",
    "        \"\"\"\n",
    "        self.kmin = kmin\n",
    "        self.kmax = kmax\n",
    "        self.vocab = {}\n",
    "\n",
    "    def _generate_kmers(self, seq):\n",
    "        \"\"\"\n",
    "        Generate k-mers from a sequence.\n",
    "\n",
    "        Parameters\n",
    "        ----------\n",
    "        seq : str\n",
    "            Sequence.\n",
    "\n",
    "        Returns\n",
    "        -------\n",
    "        list\n",
    "            List of k-m\n",
    "        \"\"\"\n",
    "        kmers = []\n",
    "        for k in range(self.kmin, self.kmax + 1):\n",
    "            kmers.extend(seq[i:i+k] for i in range(len(seq) - k + 1))\n",
    "        return kmers\n",
    "    \n",
    "    def fit(self, sequences):\n",
    "        kmer_set = set()\n",
    "        for seq in sequences:\n",
    "            kmer_set.update(self._generate_kmers(seq))\n",
    "        self.vocab = {kmer: idx for idx, kmer in enumerate(sorted(kmer_set))}\n",
    "        self.phi = self.get_phi(sequences)\n",
    "    \n",
    "    def get_phi(self, sequences):\n",
    "        phi = lil_matrix((len(sequences), len(self.vocab)), dtype=int)\n",
    "        for i, seq in enumerate(sequences):\n",
    "            kmers = self._generate_kmers(seq)\n",
    "            for kmer in kmers:\n",
    "                if kmer in self.vocab:\n",
    "                    phi[i, self.vocab[kmer]] += 1\n",
    "        return phi.tocsr()\n",
    "    \n",
    "    def get_kernel(self):\n",
    "        return (self.phi @ self.phi.T / np.sqrt(self.phi.sum(axis=1) @ self.phi.sum(axis=1).T)).todense()\n",
    "    \n",
    "    def predict(self, sequences):\n",
    "        phis = self.get_phi(sequences)\n",
    "        k_train = self.get_kernel()\n",
    "        div = np.sqrt(k_train).sum(axis=0)\n",
    "        \n",
    "        k_test = (phis @ phis.T).todense()\n",
    "        pred = []\n",
    "        for i in range(phis.shape[0]):\n",
    "            phi_x = phis[i, :]\n",
    "            k_xx = k_test[i, i]\n",
    "            pred.append((phi_x @ self.phi.T / (div*np.sqrt(k_xx))).todense().flatten())\n",
    "        return np.array(pred).squeeze()\n",
    "        # return (phi_x @ self.phi.T / (np.sqrt(self.phi @ self.phi.T) * np.sqrt(phi_x @ phi_x.T)).sum(axis=1)).todense()\n",
    "        "
   ]
  },
  {
   "cell_type": "code",
   "execution_count": 46,
   "metadata": {},
   "outputs": [],
   "source": [
    "class Dataset:\n",
    "    def __init__(self, train_idx = 0, mode = 'train'):\n",
    "        if mode == 'train':\n",
    "            self.df = pd.read_csv(f'data/Xtr{train_idx}.csv', index_col=0)\n",
    "            self.target = pd.read_csv(f'data/Ytr{train_idx}.csv', index_col=0)\n",
    "        else:\n",
    "            self.df = pd.read_csv(f'data/Xte{train_idx}.csv', index_col=0)\n",
    "            self.target = None\n",
    "\n",
    "    def train_test_split(self, test_size=0.2, shuffle=True):\n",
    "        # without using sklearn\n",
    "        n = len(self.df)\n",
    "        indices = np.arange(n)\n",
    "        if shuffle:\n",
    "            np.random.shuffle(indices)\n",
    "        n_test = int(n * test_size)\n",
    "        test_indices = indices[:n_test]\n",
    "        train_indices = indices[n_test:]\n",
    "        train_df = self.df.iloc[train_indices].seq.to_numpy()\n",
    "        test_df = self.df.iloc[test_indices].seq.to_numpy()\n",
    "        if self.target is not None:\n",
    "            train_target = 2 * self.target.iloc[train_indices].Bound.to_numpy() - 1\n",
    "            test_target = 2 * self.target.iloc[test_indices].Bound.to_numpy() - 1\n",
    "        else:\n",
    "            train_target = None\n",
    "            test_target = None\n",
    "        return train_df, test_df, train_target, test_target"
   ]
  },
  {
   "cell_type": "code",
   "execution_count": 47,
   "metadata": {},
   "outputs": [],
   "source": [
    "class Score:\n",
    "    \"\"\"Score object to evaluate a method\n",
    "\n",
    "    \"\"\"\n",
    "    def __init__(self, pred, labels):\n",
    "        self.n = len(labels)\n",
    "        self.tp = np.sum(np.logical_and(pred == 1., labels == 1.))\n",
    "        self.fn = np.sum(np.logical_and(pred == -1., labels == 1.))\n",
    "        self.fp = np.sum(np.logical_and(pred == 1., labels == -1.))\n",
    "        self.recall = self.tp / (self.fn + self.tp)\n",
    "        self.precision = self.tp / (self.fp + self.tp)\n",
    "        self.accuracy = np.sum(labels == pred) / self.n\n",
    "\n",
    "    def __str__(self):\n",
    "        acc = \"Accuracy: \" + str(self.accuracy)\n",
    "        pre = \"Precision: \" + str(self.precision)\n",
    "        rec = \"Recall: \" + str(self.recall)\n",
    "        return \", \".join([acc, pre, rec])\n",
    "    \n",
    "    def __repr__(self):\n",
    "        return self.__str__()\n",
    "\n",
    "class KSVM():\n",
    "    def __init__(self,\n",
    "                 kernel_cls,\n",
    "                 C,\n",
    "                 tol,\n",
    "                 name=\"KSVM\"):\n",
    "        \n",
    "        self.kernel = kernel_cls()\n",
    "        self.__name__ = name\n",
    "\n",
    "        self.C = C\n",
    "        self.tol = tol\n",
    "\n",
    "    def predict(self, data):\n",
    "        K_xi = self.kernel.predict(data)\n",
    "        pred = self.alpha @ K_xi.T + self.b\n",
    "        return np.sign(pred)\n",
    "\n",
    "    def score_recall_precision(self, data, labels):\n",
    "\n",
    "        mask = np.arange(len(data))\n",
    "        np.random.shuffle(mask)\n",
    "        pred = self.predict(data[mask])\n",
    "        score = Score(pred, labels[mask])\n",
    "        return score\n",
    "    \n",
    "    def fit(self, data, labels):\n",
    "        self.kernel.fit(data)\n",
    "        K = self.kernel.get_kernel()\n",
    "        n = len(K)\n",
    "        y = labels\n",
    "        C = self.C\n",
    "\n",
    "        G_top = np.diag(np.ones(n) * (-1))\n",
    "        h_left = np.zeros(n)\n",
    "        G_bot = np.eye(n)\n",
    "        h_right = np.ones(n) * C\n",
    "        G = matrix(np.vstack([G_top, G_bot]), (2 * n, n), 'd')\n",
    "        h = matrix(np.hstack([h_left, h_right]), (2 * n, 1), 'd')\n",
    "        P = matrix(np.dot(np.diag(y), np.dot(K, np.diag(y))), (n, n), 'd')\n",
    "        q = matrix(np.ones(n) * (-1), (n, 1), 'd')\n",
    "\n",
    "        A = matrix(y, (1, n), \"d\")\n",
    "\n",
    "        b = matrix(0.0)\n",
    "        alpha = y * np.array(solvers.qp(P, q, G, h, A=A, b=b)[\"x\"]).reshape(-1)\n",
    "\n",
    "        support_vectors = np.where(np.abs(alpha) > self.tol)[0]\n",
    "\n",
    "        intercept = 0\n",
    "        for sv in support_vectors:\n",
    "            intercept += y[sv]\n",
    "            intercept -= np.sum(\n",
    "                alpha[support_vectors, None] * K[sv, support_vectors])\n",
    "        if len(support_vectors) > 0:\n",
    "            intercept /= len(support_vectors)\n",
    "\n",
    "        # set to zero non support vectors\n",
    "        alpha[np.where(np.abs(alpha) <= self.tol)[0]] = 0\n",
    "        \n",
    "        self.b = intercept\n",
    "        self.alpha = alpha\n",
    "        return self.alpha, self.b"
   ]
  },
  {
   "cell_type": "code",
   "execution_count": 48,
   "metadata": {},
   "outputs": [
    {
     "ename": "KeyboardInterrupt",
     "evalue": "",
     "output_type": "error",
     "traceback": [
      "\u001b[0;31m---------------------------------------------------------------------------\u001b[0m",
      "\u001b[0;31mKeyboardInterrupt\u001b[0m                         Traceback (most recent call last)",
      "Cell \u001b[0;32mIn[48], line 6\u001b[0m\n\u001b[1;32m      4\u001b[0m Xtr, Xte, Ytr, Yte \u001b[38;5;241m=\u001b[39m dataset\u001b[38;5;241m.\u001b[39mtrain_test_split(test_size\u001b[38;5;241m=\u001b[39m\u001b[38;5;241m0.2\u001b[39m)\n\u001b[1;32m      5\u001b[0m ksvm \u001b[38;5;241m=\u001b[39m KSVM(partial(KmerKernel, kmin\u001b[38;5;241m=\u001b[39m\u001b[38;5;241m7\u001b[39m, kmax\u001b[38;5;241m=\u001b[39m\u001b[38;5;241m20\u001b[39m), C\u001b[38;5;241m=\u001b[39m\u001b[38;5;241m0.1\u001b[39m, tol\u001b[38;5;241m=\u001b[39m\u001b[38;5;241m1e-5\u001b[39m)\n\u001b[0;32m----> 6\u001b[0m alpha, beta \u001b[38;5;241m=\u001b[39m \u001b[43mksvm\u001b[49m\u001b[38;5;241;43m.\u001b[39;49m\u001b[43mfit\u001b[49m\u001b[43m(\u001b[49m\u001b[43mXtr\u001b[49m\u001b[43m,\u001b[49m\u001b[43m \u001b[49m\u001b[43mYtr\u001b[49m\u001b[43m)\u001b[49m\n",
      "Cell \u001b[0;32mIn[47], line 76\u001b[0m, in \u001b[0;36mKSVM.fit\u001b[0;34m(self, data, labels)\u001b[0m\n\u001b[1;32m     73\u001b[0m \u001b[38;5;28;01mfor\u001b[39;00m sv \u001b[38;5;129;01min\u001b[39;00m support_vectors:\n\u001b[1;32m     74\u001b[0m     intercept \u001b[38;5;241m+\u001b[39m\u001b[38;5;241m=\u001b[39m y[sv]\n\u001b[1;32m     75\u001b[0m     intercept \u001b[38;5;241m-\u001b[39m\u001b[38;5;241m=\u001b[39m np\u001b[38;5;241m.\u001b[39msum(\n\u001b[0;32m---> 76\u001b[0m         \u001b[43malpha\u001b[49m\u001b[43m[\u001b[49m\u001b[43msupport_vectors\u001b[49m\u001b[43m,\u001b[49m\u001b[43m \u001b[49m\u001b[38;5;28;43;01mNone\u001b[39;49;00m\u001b[43m]\u001b[49m\u001b[43m \u001b[49m\u001b[38;5;241;43m*\u001b[39;49m\u001b[43m \u001b[49m\u001b[43mK\u001b[49m\u001b[43m[\u001b[49m\u001b[43msv\u001b[49m\u001b[43m,\u001b[49m\u001b[43m \u001b[49m\u001b[43msupport_vectors\u001b[49m\u001b[43m]\u001b[49m)\n\u001b[1;32m     77\u001b[0m \u001b[38;5;28;01mif\u001b[39;00m \u001b[38;5;28mlen\u001b[39m(support_vectors) \u001b[38;5;241m>\u001b[39m \u001b[38;5;241m0\u001b[39m:\n\u001b[1;32m     78\u001b[0m     intercept \u001b[38;5;241m/\u001b[39m\u001b[38;5;241m=\u001b[39m \u001b[38;5;28mlen\u001b[39m(support_vectors)\n",
      "File \u001b[0;32m~/opt/anaconda3/envs/mlp/lib/python3.11/site-packages/numpy/matrixlib/defmatrix.py:225\u001b[0m, in \u001b[0;36mmatrix.__rmul__\u001b[0;34m(self, other)\u001b[0m\n\u001b[1;32m    224\u001b[0m \u001b[38;5;28;01mdef\u001b[39;00m \u001b[38;5;21m__rmul__\u001b[39m(\u001b[38;5;28mself\u001b[39m, other):\n\u001b[0;32m--> 225\u001b[0m     \u001b[38;5;28;01mreturn\u001b[39;00m \u001b[43mN\u001b[49m\u001b[38;5;241;43m.\u001b[39;49m\u001b[43mdot\u001b[49m\u001b[43m(\u001b[49m\u001b[43mother\u001b[49m\u001b[43m,\u001b[49m\u001b[43m \u001b[49m\u001b[38;5;28;43mself\u001b[39;49m\u001b[43m)\u001b[49m\n",
      "\u001b[0;31mKeyboardInterrupt\u001b[0m: "
     ]
    }
   ],
   "source": [
    "from functools import partial\n",
    "\n",
    "dataset = Dataset(train_idx=0)\n",
    "Xtr, Xte, Ytr, Yte = dataset.train_test_split(test_size=0.2)\n",
    "ksvm = KSVM(partial(KmerKernel, kmin=7, kmax=20), C=0.1, tol=1e-5)\n",
    "alpha, beta = ksvm.fit(Xtr, Ytr)"
   ]
  },
  {
   "cell_type": "code",
   "execution_count": 38,
   "metadata": {},
   "outputs": [
    {
     "name": "stderr",
     "output_type": "stream",
     "text": [
      "100%|██████████| 1600/1600 [00:24<00:00, 65.11it/s]\n"
     ]
    },
    {
     "data": {
      "text/plain": [
       "Accuracy: 0.944375, Precision: 1.0, Recall: 0.8877679697351829"
      ]
     },
     "execution_count": 38,
     "metadata": {},
     "output_type": "execute_result"
    }
   ],
   "source": [
    "ksvm.score_recall_precision(Xtr, Ytr)"
   ]
  },
  {
   "cell_type": "code",
   "execution_count": 39,
   "metadata": {},
   "outputs": [
    {
     "name": "stderr",
     "output_type": "stream",
     "text": [
      "100%|██████████| 400/400 [00:06<00:00, 63.67it/s]\n"
     ]
    },
    {
     "data": {
      "text/plain": [
       "Accuracy: 0.6075, Precision: 0.574585635359116, Recall: 0.5652173913043478"
      ]
     },
     "execution_count": 39,
     "metadata": {},
     "output_type": "execute_result"
    }
   ],
   "source": [
    "ksvm.score_recall_precision(Xte, Yte)"
   ]
  },
  {
   "cell_type": "code",
   "execution_count": 50,
   "metadata": {},
   "outputs": [
    {
     "name": "stderr",
     "output_type": "stream",
     "text": [
      "[I 2025-02-27 16:31:29,496] A new study created in memory with name: no-name-81a6a60e-6f26-439c-85ae-5ec902dac694\n"
     ]
    },
    {
     "name": "stdout",
     "output_type": "stream",
     "text": [
      "Optimizing hyperparameters for train_idx=0\n"
     ]
    },
    {
     "data": {
      "application/vnd.jupyter.widget-view+json": {
       "model_id": "0f5dda24ce24454c9fae6ce9c3d60559",
       "version_major": 2,
       "version_minor": 0
      },
      "text/plain": [
       "  0%|          | 0/50 [00:00<?, ?it/s]"
      ]
     },
     "metadata": {},
     "output_type": "display_data"
    },
    {
     "name": "stderr",
     "output_type": "stream",
     "text": [
      "/var/folders/ck/j7s268jx3znc22kgclrw1rcc0000gn/T/ipykernel_25602/2302153764.py:11: RuntimeWarning: invalid value encountered in scalar divide\n",
      "  self.precision = self.tp / (self.fp + self.tp)\n"
     ]
    },
    {
     "name": "stdout",
     "output_type": "stream",
     "text": [
      "[I 2025-02-27 16:32:50,837] Trial 0 finished with value: 0.5108333333333334 and parameters: {'kmin': 5, 'kmax': 20, 'C': 0.01}. Best is trial 0 with value: 0.5108333333333334.\n",
      "[I 2025-02-27 16:33:39,383] Trial 1 finished with value: 0.545 and parameters: {'kmin': 9, 'kmax': 12, 'C': 0.01}. Best is trial 1 with value: 0.545.\n"
     ]
    },
    {
     "name": "stderr",
     "output_type": "stream",
     "text": [
      "/Users/noe/opt/anaconda3/envs/mlp/lib/python3.11/site-packages/scipy/sparse/_base.py:704: RuntimeWarning: divide by zero encountered in divide\n",
      "  recip = np.true_divide(1., other)\n"
     ]
    },
    {
     "name": "stdout",
     "output_type": "stream",
     "text": [
      "[I 2025-02-27 16:34:28,020] Trial 2 finished with value: 0.6025 and parameters: {'kmin': 11, 'kmax': 15, 'C': 2}. Best is trial 2 with value: 0.6025.\n",
      "[I 2025-02-27 16:35:52,876] Trial 3 finished with value: 0.6258333333333334 and parameters: {'kmin': 7, 'kmax': 22, 'C': 0.1}. Best is trial 3 with value: 0.6258333333333334.\n",
      "[I 2025-02-27 16:37:05,664] Trial 4 finished with value: 0.5783333333333333 and parameters: {'kmin': 11, 'kmax': 22, 'C': 5}. Best is trial 3 with value: 0.6258333333333334.\n",
      "[I 2025-02-27 16:38:28,170] Trial 5 finished with value: 0.5666666666666665 and parameters: {'kmin': 3, 'kmax': 18, 'C': 0.1}. Best is trial 3 with value: 0.6258333333333334.\n",
      "[I 2025-02-27 16:39:05,841] Trial 6 finished with value: 0.5908333333333333 and parameters: {'kmin': 11, 'kmax': 12, 'C': 1}. Best is trial 3 with value: 0.6258333333333334.\n",
      "[I 2025-02-27 16:40:31,356] Trial 7 finished with value: 0.5275 and parameters: {'kmin': 5, 'kmax': 20, 'C': 0.01}. Best is trial 3 with value: 0.6258333333333334.\n",
      "[I 2025-02-27 16:41:16,218] Trial 8 finished with value: 0.5283333333333333 and parameters: {'kmin': 11, 'kmax': 12, 'C': 0.01}. Best is trial 3 with value: 0.6258333333333334.\n",
      "[I 2025-02-27 16:42:28,389] Trial 9 finished with value: 0.5391666666666667 and parameters: {'kmin': 11, 'kmax': 22, 'C': 0.01}. Best is trial 3 with value: 0.6258333333333334.\n",
      "[I 2025-02-27 16:44:01,182] Trial 10 finished with value: 0.5866666666666668 and parameters: {'kmin': 7, 'kmax': 25, 'C': 0.1}. Best is trial 3 with value: 0.6258333333333334.\n",
      "[I 2025-02-27 16:44:55,642] Trial 11 finished with value: 0.615 and parameters: {'kmin': 7, 'kmax': 15, 'C': 2}. Best is trial 3 with value: 0.6258333333333334.\n",
      "[I 2025-02-27 16:45:48,315] Trial 12 finished with value: 0.6191666666666668 and parameters: {'kmin': 7, 'kmax': 15, 'C': 2}. Best is trial 3 with value: 0.6258333333333334.\n",
      "[I 2025-02-27 16:46:42,312] Trial 13 finished with value: 0.6333333333333334 and parameters: {'kmin': 7, 'kmax': 15, 'C': 2}. Best is trial 13 with value: 0.6333333333333334.\n",
      "[I 2025-02-27 16:48:04,728] Trial 14 finished with value: 0.62 and parameters: {'kmin': 7, 'kmax': 22, 'C': 0.1}. Best is trial 13 with value: 0.6333333333333334.\n",
      "[I 2025-02-27 16:49:34,849] Trial 15 finished with value: 0.615 and parameters: {'kmin': 7, 'kmax': 25, 'C': 5}. Best is trial 13 with value: 0.6333333333333334.\n",
      "[I 2025-02-27 16:50:49,388] Trial 16 finished with value: 0.5633333333333334 and parameters: {'kmin': 3, 'kmax': 18, 'C': 1}. Best is trial 13 with value: 0.6333333333333334.\n",
      "[I 2025-02-27 16:51:43,460] Trial 17 finished with value: 0.5633333333333334 and parameters: {'kmin': 9, 'kmax': 15, 'C': 2}. Best is trial 13 with value: 0.6333333333333334.\n",
      "[I 2025-02-27 16:53:03,529] Trial 18 finished with value: 0.6208333333333333 and parameters: {'kmin': 7, 'kmax': 22, 'C': 0.1}. Best is trial 13 with value: 0.6333333333333334.\n",
      "[I 2025-02-27 16:54:00,047] Trial 19 finished with value: 0.6074999999999999 and parameters: {'kmin': 7, 'kmax': 15, 'C': 2}. Best is trial 13 with value: 0.6333333333333334.\n",
      "[I 2025-02-27 16:55:21,727] Trial 20 finished with value: 0.5958333333333333 and parameters: {'kmin': 7, 'kmax': 22, 'C': 0.1}. Best is trial 13 with value: 0.6333333333333334.\n",
      "[I 2025-02-27 16:56:46,175] Trial 21 finished with value: 0.5983333333333334 and parameters: {'kmin': 7, 'kmax': 22, 'C': 0.1}. Best is trial 13 with value: 0.6333333333333334.\n",
      "[I 2025-02-27 16:58:09,147] Trial 22 finished with value: 0.59 and parameters: {'kmin': 7, 'kmax': 22, 'C': 0.1}. Best is trial 13 with value: 0.6333333333333334.\n",
      "[I 2025-02-27 16:59:36,565] Trial 23 finished with value: 0.605 and parameters: {'kmin': 7, 'kmax': 22, 'C': 0.1}. Best is trial 13 with value: 0.6333333333333334.\n",
      "[I 2025-02-27 17:01:00,848] Trial 24 finished with value: 0.6158333333333333 and parameters: {'kmin': 7, 'kmax': 22, 'C': 0.1}. Best is trial 13 with value: 0.6333333333333334.\n",
      "[I 2025-02-27 17:02:48,413] Trial 25 finished with value: 0.5533333333333333 and parameters: {'kmin': 3, 'kmax': 25, 'C': 5}. Best is trial 13 with value: 0.6333333333333334.\n",
      "[I 2025-02-27 17:04:06,013] Trial 26 finished with value: 0.6425 and parameters: {'kmin': 5, 'kmax': 18, 'C': 1}. Best is trial 26 with value: 0.6425.\n",
      "[I 2025-02-27 17:05:24,104] Trial 27 finished with value: 0.6058333333333333 and parameters: {'kmin': 5, 'kmax': 18, 'C': 1}. Best is trial 26 with value: 0.6425.\n",
      "[I 2025-02-27 17:06:41,060] Trial 28 finished with value: 0.6333333333333333 and parameters: {'kmin': 5, 'kmax': 18, 'C': 1}. Best is trial 26 with value: 0.6425.\n",
      "[I 2025-02-27 17:07:57,830] Trial 29 finished with value: 0.6266666666666667 and parameters: {'kmin': 5, 'kmax': 18, 'C': 1}. Best is trial 26 with value: 0.6425.\n",
      "[I 2025-02-27 17:09:08,565] Trial 30 finished with value: 0.6366666666666667 and parameters: {'kmin': 5, 'kmax': 18, 'C': 1}. Best is trial 26 with value: 0.6425.\n",
      "[I 2025-02-27 17:10:18,271] Trial 31 finished with value: 0.6175 and parameters: {'kmin': 5, 'kmax': 18, 'C': 1}. Best is trial 26 with value: 0.6425.\n",
      "[I 2025-02-27 17:11:34,626] Trial 32 finished with value: 0.6358333333333334 and parameters: {'kmin': 5, 'kmax': 18, 'C': 1}. Best is trial 26 with value: 0.6425.\n",
      "[I 2025-02-27 17:12:44,333] Trial 33 finished with value: 0.6383333333333333 and parameters: {'kmin': 5, 'kmax': 18, 'C': 1}. Best is trial 26 with value: 0.6425.\n",
      "[I 2025-02-27 17:13:58,799] Trial 34 finished with value: 0.6166666666666667 and parameters: {'kmin': 5, 'kmax': 18, 'C': 1}. Best is trial 26 with value: 0.6425.\n",
      "[I 2025-02-27 17:15:17,915] Trial 35 finished with value: 0.6191666666666666 and parameters: {'kmin': 5, 'kmax': 18, 'C': 1}. Best is trial 26 with value: 0.6425.\n",
      "[I 2025-02-27 17:16:36,361] Trial 36 finished with value: 0.6191666666666668 and parameters: {'kmin': 5, 'kmax': 18, 'C': 1}. Best is trial 26 with value: 0.6425.\n",
      "[I 2025-02-27 17:17:58,231] Trial 37 finished with value: 0.6333333333333333 and parameters: {'kmin': 5, 'kmax': 20, 'C': 1}. Best is trial 26 with value: 0.6425.\n",
      "[I 2025-02-27 17:21:49,785] Trial 38 finished with value: 0.6225 and parameters: {'kmin': 5, 'kmax': 18, 'C': 1}. Best is trial 26 with value: 0.6425.\n",
      "[I 2025-02-27 17:26:51,863] Trial 39 finished with value: 0.61 and parameters: {'kmin': 9, 'kmax': 18, 'C': 1}. Best is trial 26 with value: 0.6425.\n",
      "[I 2025-02-27 17:32:49,215] Trial 40 finished with value: 0.6333333333333333 and parameters: {'kmin': 5, 'kmax': 12, 'C': 1}. Best is trial 26 with value: 0.6425.\n",
      "[I 2025-02-27 17:33:59,745] Trial 41 finished with value: 0.6166666666666667 and parameters: {'kmin': 5, 'kmax': 18, 'C': 2}. Best is trial 26 with value: 0.6425.\n",
      "[I 2025-02-27 17:35:09,611] Trial 42 finished with value: 0.6033333333333334 and parameters: {'kmin': 5, 'kmax': 20, 'C': 1}. Best is trial 26 with value: 0.6425.\n",
      "[I 2025-02-27 17:36:09,502] Trial 43 finished with value: 0.5616666666666666 and parameters: {'kmin': 9, 'kmax': 15, 'C': 0.01}. Best is trial 26 with value: 0.6425.\n",
      "[I 2025-02-27 17:37:22,259] Trial 44 finished with value: 0.6108333333333333 and parameters: {'kmin': 5, 'kmax': 18, 'C': 2}. Best is trial 26 with value: 0.6425.\n",
      "[I 2025-02-27 17:38:11,477] Trial 45 finished with value: 0.5975 and parameters: {'kmin': 11, 'kmax': 18, 'C': 5}. Best is trial 26 with value: 0.6425.\n",
      "[I 2025-02-27 17:39:03,305] Trial 46 finished with value: 0.6216666666666667 and parameters: {'kmin': 5, 'kmax': 12, 'C': 1}. Best is trial 26 with value: 0.6425.\n",
      "[I 2025-02-27 17:40:09,466] Trial 47 finished with value: 0.5275 and parameters: {'kmin': 3, 'kmax': 15, 'C': 1}. Best is trial 26 with value: 0.6425.\n",
      "[I 2025-02-27 17:41:29,381] Trial 48 finished with value: 0.6091666666666667 and parameters: {'kmin': 5, 'kmax': 18, 'C': 2}. Best is trial 26 with value: 0.6425.\n"
     ]
    },
    {
     "name": "stderr",
     "output_type": "stream",
     "text": [
      "[I 2025-02-27 17:42:43,308] A new study created in memory with name: no-name-5dd8ed64-5470-4380-bbc2-78d96016dbf1\n"
     ]
    },
    {
     "name": "stdout",
     "output_type": "stream",
     "text": [
      "[I 2025-02-27 17:42:43,281] Trial 49 finished with value: 0.5241666666666668 and parameters: {'kmin': 11, 'kmax': 25, 'C': 0.01}. Best is trial 26 with value: 0.6425.\n",
      "Best parameters for train_idx=0: {'kmin': 5, 'kmax': 18, 'C': 1}, Accuracy=0.6425\n",
      "Optimizing hyperparameters for train_idx=1\n"
     ]
    },
    {
     "data": {
      "application/vnd.jupyter.widget-view+json": {
       "model_id": "3e7770bbdb7449829a7451a5c91d8954",
       "version_major": 2,
       "version_minor": 0
      },
      "text/plain": [
       "  0%|          | 0/50 [00:00<?, ?it/s]"
      ]
     },
     "metadata": {},
     "output_type": "display_data"
    },
    {
     "name": "stdout",
     "output_type": "stream",
     "text": [
      "[I 2025-02-27 17:43:45,982] Trial 0 finished with value: 0.6966666666666668 and parameters: {'kmin': 9, 'kmax': 20, 'C': 1}. Best is trial 0 with value: 0.6966666666666668.\n"
     ]
    },
    {
     "name": "stderr",
     "output_type": "stream",
     "text": [
      "/var/folders/ck/j7s268jx3znc22kgclrw1rcc0000gn/T/ipykernel_25602/2302153764.py:11: RuntimeWarning: invalid value encountered in scalar divide\n",
      "  self.precision = self.tp / (self.fp + self.tp)\n"
     ]
    },
    {
     "name": "stdout",
     "output_type": "stream",
     "text": [
      "[I 2025-02-27 17:44:46,914] Trial 1 finished with value: 0.5041666666666667 and parameters: {'kmin': 5, 'kmax': 15, 'C': 0.01}. Best is trial 0 with value: 0.6966666666666668.\n",
      "[I 2025-02-27 17:45:45,230] Trial 2 finished with value: 0.7133333333333334 and parameters: {'kmin': 9, 'kmax': 20, 'C': 2}. Best is trial 2 with value: 0.7133333333333334.\n",
      "[I 2025-02-27 17:46:43,132] Trial 3 finished with value: 0.7225 and parameters: {'kmin': 7, 'kmax': 15, 'C': 1}. Best is trial 3 with value: 0.7225.\n",
      "[I 2025-02-27 17:47:56,522] Trial 4 finished with value: 0.775 and parameters: {'kmin': 3, 'kmax': 18, 'C': 2}. Best is trial 4 with value: 0.775.\n",
      "[I 2025-02-27 17:49:19,856] Trial 5 finished with value: 0.7425 and parameters: {'kmin': 3, 'kmax': 22, 'C': 5}. Best is trial 4 with value: 0.775.\n",
      "[I 2025-02-27 17:50:21,335] Trial 6 finished with value: 0.6491666666666668 and parameters: {'kmin': 3, 'kmax': 15, 'C': 0.1}. Best is trial 4 with value: 0.775.\n",
      "[I 2025-02-27 17:51:29,194] Trial 7 finished with value: 0.7625000000000001 and parameters: {'kmin': 5, 'kmax': 20, 'C': 1}. Best is trial 4 with value: 0.775.\n"
     ]
    },
    {
     "name": "stderr",
     "output_type": "stream",
     "text": [
      "/Users/noe/opt/anaconda3/envs/mlp/lib/python3.11/site-packages/scipy/sparse/_base.py:704: RuntimeWarning: divide by zero encountered in divide\n",
      "  recip = np.true_divide(1., other)\n"
     ]
    },
    {
     "name": "stdout",
     "output_type": "stream",
     "text": [
      "[I 2025-02-27 17:52:25,866] Trial 8 finished with value: 0.6725 and parameters: {'kmin': 11, 'kmax': 22, 'C': 1}. Best is trial 4 with value: 0.775.\n",
      "[I 2025-02-27 17:53:20,807] Trial 9 finished with value: 0.7408333333333333 and parameters: {'kmin': 5, 'kmax': 15, 'C': 5}. Best is trial 4 with value: 0.775.\n",
      "[I 2025-02-27 17:54:29,171] Trial 10 finished with value: 0.7675000000000001 and parameters: {'kmin': 3, 'kmax': 18, 'C': 2}. Best is trial 4 with value: 0.775.\n",
      "[I 2025-02-27 17:55:38,477] Trial 11 finished with value: 0.7200000000000001 and parameters: {'kmin': 3, 'kmax': 18, 'C': 2}. Best is trial 4 with value: 0.775.\n",
      "[I 2025-02-27 17:56:46,193] Trial 12 finished with value: 0.7366666666666667 and parameters: {'kmin': 3, 'kmax': 18, 'C': 2}. Best is trial 4 with value: 0.775.\n",
      "[I 2025-02-27 17:58:20,657] Trial 13 finished with value: 0.7525000000000001 and parameters: {'kmin': 3, 'kmax': 25, 'C': 2}. Best is trial 4 with value: 0.775.\n",
      "[I 2025-02-27 17:59:00,786] Trial 14 finished with value: 0.7200000000000001 and parameters: {'kmin': 7, 'kmax': 12, 'C': 2}. Best is trial 4 with value: 0.775.\n",
      "[I 2025-02-27 17:59:50,633] Trial 15 finished with value: 0.7033333333333333 and parameters: {'kmin': 11, 'kmax': 18, 'C': 0.1}. Best is trial 4 with value: 0.775.\n",
      "[I 2025-02-27 18:01:04,183] Trial 16 finished with value: 0.5208333333333334 and parameters: {'kmin': 3, 'kmax': 18, 'C': 0.01}. Best is trial 4 with value: 0.775.\n",
      "[I 2025-02-27 18:02:12,993] Trial 17 finished with value: 0.7233333333333333 and parameters: {'kmin': 3, 'kmax': 18, 'C': 2}. Best is trial 4 with value: 0.775.\n",
      "[I 2025-02-27 18:03:45,267] Trial 18 finished with value: 0.755 and parameters: {'kmin': 3, 'kmax': 25, 'C': 2}. Best is trial 4 with value: 0.775.\n",
      "[I 2025-02-27 18:04:24,176] Trial 19 finished with value: 0.7391666666666667 and parameters: {'kmin': 7, 'kmax': 12, 'C': 2}. Best is trial 4 with value: 0.775.\n",
      "[I 2025-02-27 18:05:11,424] Trial 20 finished with value: 0.6816666666666666 and parameters: {'kmin': 11, 'kmax': 18, 'C': 0.01}. Best is trial 4 with value: 0.775.\n",
      "[I 2025-02-27 18:06:20,309] Trial 21 finished with value: 0.7641666666666667 and parameters: {'kmin': 5, 'kmax': 20, 'C': 1}. Best is trial 4 with value: 0.775.\n",
      "[I 2025-02-27 18:07:33,290] Trial 22 finished with value: 0.7358333333333333 and parameters: {'kmin': 5, 'kmax': 20, 'C': 0.1}. Best is trial 4 with value: 0.775.\n",
      "[I 2025-02-27 18:08:46,732] Trial 23 finished with value: 0.7491666666666666 and parameters: {'kmin': 5, 'kmax': 18, 'C': 1}. Best is trial 4 with value: 0.775.\n",
      "[I 2025-02-27 18:09:44,443] Trial 24 finished with value: 0.695 and parameters: {'kmin': 9, 'kmax': 20, 'C': 5}. Best is trial 4 with value: 0.775.\n",
      "[I 2025-02-27 18:10:48,620] Trial 25 finished with value: 0.7416666666666667 and parameters: {'kmin': 5, 'kmax': 18, 'C': 1}. Best is trial 4 with value: 0.775.\n",
      "[I 2025-02-27 18:11:37,220] Trial 26 finished with value: 0.7308333333333333 and parameters: {'kmin': 3, 'kmax': 12, 'C': 2}. Best is trial 4 with value: 0.775.\n",
      "[I 2025-02-27 18:12:59,308] Trial 27 finished with value: 0.7474999999999999 and parameters: {'kmin': 3, 'kmax': 22, 'C': 2}. Best is trial 4 with value: 0.775.\n",
      "[I 2025-02-27 18:14:28,190] Trial 28 finished with value: 0.7625000000000001 and parameters: {'kmin': 5, 'kmax': 25, 'C': 1}. Best is trial 4 with value: 0.775.\n",
      "[I 2025-02-27 18:15:25,733] Trial 29 finished with value: 0.7141666666666667 and parameters: {'kmin': 9, 'kmax': 20, 'C': 1}. Best is trial 4 with value: 0.775.\n",
      "[I 2025-02-27 18:16:33,900] Trial 30 finished with value: 0.6833333333333335 and parameters: {'kmin': 7, 'kmax': 20, 'C': 0.01}. Best is trial 4 with value: 0.775.\n",
      "[I 2025-02-27 18:17:44,012] Trial 31 finished with value: 0.7525 and parameters: {'kmin': 5, 'kmax': 20, 'C': 1}. Best is trial 4 with value: 0.775.\n",
      "[I 2025-02-27 18:18:55,199] Trial 32 finished with value: 0.7558333333333334 and parameters: {'kmin': 5, 'kmax': 20, 'C': 1}. Best is trial 4 with value: 0.775.\n",
      "[I 2025-02-27 18:20:04,849] Trial 33 finished with value: 0.7566666666666667 and parameters: {'kmin': 5, 'kmax': 20, 'C': 1}. Best is trial 4 with value: 0.775.\n",
      "[I 2025-02-27 18:21:14,939] Trial 34 finished with value: 0.7541666666666668 and parameters: {'kmin': 5, 'kmax': 20, 'C': 1}. Best is trial 4 with value: 0.775.\n",
      "[I 2025-02-27 18:22:06,456] Trial 35 finished with value: 0.71 and parameters: {'kmin': 9, 'kmax': 18, 'C': 5}. Best is trial 4 with value: 0.775.\n",
      "[I 2025-02-27 18:23:19,550] Trial 36 finished with value: 0.7600000000000001 and parameters: {'kmin': 5, 'kmax': 20, 'C': 2}. Best is trial 4 with value: 0.775.\n",
      "[I 2025-02-27 18:24:20,922] Trial 37 finished with value: 0.6616666666666666 and parameters: {'kmin': 3, 'kmax': 15, 'C': 0.1}. Best is trial 4 with value: 0.775.\n",
      "[I 2025-02-27 18:25:18,156] Trial 38 finished with value: 0.6666666666666666 and parameters: {'kmin': 11, 'kmax': 22, 'C': 1}. Best is trial 4 with value: 0.775.\n",
      "[I 2025-02-27 18:26:26,868] Trial 39 finished with value: 0.7283333333333334 and parameters: {'kmin': 3, 'kmax': 18, 'C': 1}. Best is trial 4 with value: 0.775.\n",
      "[I 2025-02-27 18:27:37,325] Trial 40 finished with value: 0.7358333333333333 and parameters: {'kmin': 5, 'kmax': 20, 'C': 2}. Best is trial 4 with value: 0.775.\n",
      "[I 2025-02-27 18:29:05,359] Trial 41 finished with value: 0.765 and parameters: {'kmin': 5, 'kmax': 25, 'C': 1}. Best is trial 4 with value: 0.775.\n",
      "[I 2025-02-27 18:30:31,474] Trial 42 finished with value: 0.7258333333333334 and parameters: {'kmin': 5, 'kmax': 25, 'C': 1}. Best is trial 4 with value: 0.775.\n",
      "[I 2025-02-27 18:31:58,085] Trial 43 finished with value: 0.7599999999999999 and parameters: {'kmin': 5, 'kmax': 25, 'C': 1}. Best is trial 4 with value: 0.775.\n",
      "[I 2025-02-27 18:33:25,911] Trial 44 finished with value: 0.7625000000000001 and parameters: {'kmin': 5, 'kmax': 25, 'C': 5}. Best is trial 4 with value: 0.775.\n",
      "[I 2025-02-27 18:34:23,069] Trial 45 finished with value: 0.7474999999999999 and parameters: {'kmin': 3, 'kmax': 15, 'C': 1}. Best is trial 4 with value: 0.775.\n",
      "[I 2025-02-27 18:35:45,598] Trial 46 finished with value: 0.6516666666666667 and parameters: {'kmin': 7, 'kmax': 25, 'C': 0.01}. Best is trial 4 with value: 0.775.\n",
      "[I 2025-02-27 18:36:55,107] Trial 47 finished with value: 0.7508333333333334 and parameters: {'kmin': 3, 'kmax': 18, 'C': 2}. Best is trial 4 with value: 0.775.\n",
      "[I 2025-02-27 18:37:27,267] Trial 48 finished with value: 0.6925 and parameters: {'kmin': 11, 'kmax': 12, 'C': 0.1}. Best is trial 4 with value: 0.775.\n"
     ]
    },
    {
     "name": "stderr",
     "output_type": "stream",
     "text": [
      "[I 2025-02-27 18:38:43,710] A new study created in memory with name: no-name-d2ce172b-ab1d-4ba9-a29f-384e462b4b66\n"
     ]
    },
    {
     "name": "stdout",
     "output_type": "stream",
     "text": [
      "[I 2025-02-27 18:38:43,686] Trial 49 finished with value: 0.7400000000000001 and parameters: {'kmin': 5, 'kmax': 22, 'C': 2}. Best is trial 4 with value: 0.775.\n",
      "Best parameters for train_idx=1: {'kmin': 3, 'kmax': 18, 'C': 2}, Accuracy=0.7750\n",
      "Optimizing hyperparameters for train_idx=2\n"
     ]
    },
    {
     "data": {
      "application/vnd.jupyter.widget-view+json": {
       "model_id": "abc3ef91f7704d278b12e1c12502725d",
       "version_major": 2,
       "version_minor": 0
      },
      "text/plain": [
       "  0%|          | 0/50 [00:00<?, ?it/s]"
      ]
     },
     "metadata": {},
     "output_type": "display_data"
    },
    {
     "name": "stdout",
     "output_type": "stream",
     "text": [
      "[I 2025-02-27 18:40:03,444] Trial 0 finished with value: 0.6333333333333333 and parameters: {'kmin': 7, 'kmax': 22, 'C': 0.1}. Best is trial 0 with value: 0.6333333333333333.\n",
      "[I 2025-02-27 18:40:55,973] Trial 1 finished with value: 0.6124999999999999 and parameters: {'kmin': 5, 'kmax': 12, 'C': 5}. Best is trial 0 with value: 0.6333333333333333.\n",
      "[I 2025-02-27 18:42:20,202] Trial 2 finished with value: 0.6333333333333333 and parameters: {'kmin': 7, 'kmax': 25, 'C': 2}. Best is trial 0 with value: 0.6333333333333333.\n",
      "[I 2025-02-27 18:43:26,722] Trial 3 finished with value: 0.6133333333333333 and parameters: {'kmin': 7, 'kmax': 18, 'C': 0.01}. Best is trial 0 with value: 0.6333333333333333.\n"
     ]
    },
    {
     "name": "stderr",
     "output_type": "stream",
     "text": [
      "/Users/noe/opt/anaconda3/envs/mlp/lib/python3.11/site-packages/scipy/sparse/_base.py:704: RuntimeWarning: divide by zero encountered in divide\n",
      "  recip = np.true_divide(1., other)\n"
     ]
    },
    {
     "name": "stdout",
     "output_type": "stream",
     "text": [
      "[I 2025-02-27 18:44:38,305] Trial 4 finished with value: 0.645 and parameters: {'kmin': 11, 'kmax': 25, 'C': 1}. Best is trial 4 with value: 0.645.\n",
      "[I 2025-02-27 18:46:08,489] Trial 5 finished with value: 0.6233333333333334 and parameters: {'kmin': 5, 'kmax': 25, 'C': 0.1}. Best is trial 4 with value: 0.645.\n",
      "[I 2025-02-27 18:47:18,107] Trial 6 finished with value: 0.6775000000000001 and parameters: {'kmin': 5, 'kmax': 20, 'C': 2}. Best is trial 6 with value: 0.6775000000000001.\n",
      "[I 2025-02-27 18:48:32,629] Trial 7 finished with value: 0.5766666666666667 and parameters: {'kmin': 3, 'kmax': 20, 'C': 1}. Best is trial 6 with value: 0.6775000000000001.\n",
      "[I 2025-02-27 18:49:50,088] Trial 8 finished with value: 0.5858333333333333 and parameters: {'kmin': 3, 'kmax': 18, 'C': 0.01}. Best is trial 6 with value: 0.6775000000000001.\n",
      "[I 2025-02-27 18:50:56,935] Trial 9 finished with value: 0.6574999999999999 and parameters: {'kmin': 5, 'kmax': 18, 'C': 2}. Best is trial 6 with value: 0.6775000000000001.\n",
      "[I 2025-02-27 18:51:54,944] Trial 10 finished with value: 0.62 and parameters: {'kmin': 9, 'kmax': 20, 'C': 2}. Best is trial 6 with value: 0.6775000000000001.\n",
      "[I 2025-02-27 18:52:46,513] Trial 11 finished with value: 0.6716666666666667 and parameters: {'kmin': 5, 'kmax': 15, 'C': 2}. Best is trial 6 with value: 0.6775000000000001.\n",
      "[I 2025-02-27 18:53:39,058] Trial 12 finished with value: 0.65 and parameters: {'kmin': 5, 'kmax': 15, 'C': 2}. Best is trial 6 with value: 0.6775000000000001.\n",
      "[I 2025-02-27 18:54:31,425] Trial 13 finished with value: 0.6783333333333333 and parameters: {'kmin': 5, 'kmax': 15, 'C': 2}. Best is trial 13 with value: 0.6783333333333333.\n",
      "[I 2025-02-27 18:55:23,860] Trial 14 finished with value: 0.65 and parameters: {'kmin': 11, 'kmax': 20, 'C': 5}. Best is trial 13 with value: 0.6783333333333333.\n",
      "[I 2025-02-27 18:56:06,183] Trial 15 finished with value: 0.6416666666666667 and parameters: {'kmin': 9, 'kmax': 15, 'C': 2}. Best is trial 13 with value: 0.6783333333333333.\n",
      "[I 2025-02-27 18:57:23,516] Trial 16 finished with value: 0.6691666666666668 and parameters: {'kmin': 5, 'kmax': 22, 'C': 2}. Best is trial 13 with value: 0.6783333333333333.\n",
      "[I 2025-02-27 18:58:06,741] Trial 17 finished with value: 0.6033333333333334 and parameters: {'kmin': 5, 'kmax': 12, 'C': 2}. Best is trial 13 with value: 0.6783333333333333.\n",
      "[I 2025-02-27 18:58:59,379] Trial 18 finished with value: 0.6608333333333333 and parameters: {'kmin': 5, 'kmax': 15, 'C': 5}. Best is trial 13 with value: 0.6783333333333333.\n",
      "[I 2025-02-27 19:00:13,686] Trial 19 finished with value: 0.6008333333333333 and parameters: {'kmin': 3, 'kmax': 20, 'C': 0.1}. Best is trial 13 with value: 0.6783333333333333.\n",
      "[I 2025-02-27 19:01:10,154] Trial 20 finished with value: 0.6316666666666667 and parameters: {'kmin': 11, 'kmax': 20, 'C': 1}. Best is trial 13 with value: 0.6783333333333333.\n",
      "[I 2025-02-27 19:02:06,806] Trial 21 finished with value: 0.6508333333333333 and parameters: {'kmin': 5, 'kmax': 15, 'C': 2}. Best is trial 13 with value: 0.6783333333333333.\n",
      "[I 2025-02-27 19:03:03,500] Trial 22 finished with value: 0.6691666666666668 and parameters: {'kmin': 5, 'kmax': 15, 'C': 2}. Best is trial 13 with value: 0.6783333333333333.\n",
      "[W 2025-02-27 19:03:29,241] Trial 23 failed with parameters: {'kmin': 5, 'kmax': 15, 'C': 2} because of the following error: KeyboardInterrupt().\n",
      "Traceback (most recent call last):\n",
      "  File \"/Users/noe/opt/anaconda3/envs/mlp/lib/python3.11/site-packages/optuna/study/_optimize.py\", line 196, in _run_trial\n",
      "    value_or_values = func(trial)\n",
      "                      ^^^^^^^^^^^\n",
      "  File \"/var/folders/ck/j7s268jx3znc22kgclrw1rcc0000gn/T/ipykernel_25602/1085872088.py\", line 23, in objective\n",
      "    alpha, beta = ksvm.fit(Xtr, Ytr)\n",
      "                  ^^^^^^^^^^^^^^^^^^\n",
      "  File \"/var/folders/ck/j7s268jx3znc22kgclrw1rcc0000gn/T/ipykernel_25602/2302153764.py\", line 76, in fit\n",
      "    alpha[support_vectors, None] * K[sv, support_vectors])\n",
      "    ~~~~~~~~~~~~~~~~~~~~~~~~~~~~~^~~~~~~~~~~~~~~~~~~~~~~~\n",
      "  File \"/Users/noe/opt/anaconda3/envs/mlp/lib/python3.11/site-packages/numpy/matrixlib/defmatrix.py\", line 225, in __rmul__\n",
      "    return N.dot(other, self)\n",
      "           ^^^^^^^^^^^^^^^^^^\n",
      "KeyboardInterrupt\n",
      "[W 2025-02-27 19:03:29,255] Trial 23 failed with value None.\n"
     ]
    },
    {
     "ename": "KeyboardInterrupt",
     "evalue": "",
     "output_type": "error",
     "traceback": [
      "\u001b[0;31m---------------------------------------------------------------------------\u001b[0m",
      "\u001b[0;31mKeyboardInterrupt\u001b[0m                         Traceback (most recent call last)",
      "Cell \u001b[0;32mIn[50], line 30\u001b[0m\n\u001b[1;32m     27\u001b[0m     \u001b[38;5;28;01mreturn\u001b[39;00m mean_accuracy \u001b[38;5;241m/\u001b[39m cv\n\u001b[1;32m     29\u001b[0m study \u001b[38;5;241m=\u001b[39m optuna\u001b[38;5;241m.\u001b[39mcreate_study(direction\u001b[38;5;241m=\u001b[39m\u001b[38;5;124m\"\u001b[39m\u001b[38;5;124mmaximize\u001b[39m\u001b[38;5;124m\"\u001b[39m)\n\u001b[0;32m---> 30\u001b[0m \u001b[43mstudy\u001b[49m\u001b[38;5;241;43m.\u001b[39;49m\u001b[43moptimize\u001b[49m\u001b[43m(\u001b[49m\u001b[43mobjective\u001b[49m\u001b[43m,\u001b[49m\u001b[43m \u001b[49m\u001b[43mn_trials\u001b[49m\u001b[38;5;241;43m=\u001b[39;49m\u001b[38;5;241;43m50\u001b[39;49m\u001b[43m,\u001b[49m\u001b[43m \u001b[49m\u001b[43mshow_progress_bar\u001b[49m\u001b[38;5;241;43m=\u001b[39;49m\u001b[38;5;28;43;01mTrue\u001b[39;49;00m\u001b[43m)\u001b[49m\n\u001b[1;32m     32\u001b[0m best_params_per_idx[train_idx] \u001b[38;5;241m=\u001b[39m {\u001b[38;5;124m\"\u001b[39m\u001b[38;5;124mSVM\u001b[39m\u001b[38;5;124m\"\u001b[39m: study\u001b[38;5;241m.\u001b[39mbest_params}\n\u001b[1;32m     33\u001b[0m \u001b[38;5;28mprint\u001b[39m(\u001b[38;5;124mf\u001b[39m\u001b[38;5;124m\"\u001b[39m\u001b[38;5;124mBest parameters for train_idx=\u001b[39m\u001b[38;5;132;01m{\u001b[39;00mtrain_idx\u001b[38;5;132;01m}\u001b[39;00m\u001b[38;5;124m: \u001b[39m\u001b[38;5;132;01m{\u001b[39;00mstudy\u001b[38;5;241m.\u001b[39mbest_params\u001b[38;5;132;01m}\u001b[39;00m\u001b[38;5;124m, Accuracy=\u001b[39m\u001b[38;5;132;01m{\u001b[39;00mstudy\u001b[38;5;241m.\u001b[39mbest_value\u001b[38;5;132;01m:\u001b[39;00m\u001b[38;5;124m.4f\u001b[39m\u001b[38;5;132;01m}\u001b[39;00m\u001b[38;5;124m\"\u001b[39m)\n",
      "File \u001b[0;32m~/opt/anaconda3/envs/mlp/lib/python3.11/site-packages/optuna/study/study.py:451\u001b[0m, in \u001b[0;36mStudy.optimize\u001b[0;34m(self, func, n_trials, timeout, n_jobs, catch, callbacks, gc_after_trial, show_progress_bar)\u001b[0m\n\u001b[1;32m    348\u001b[0m \u001b[38;5;28;01mdef\u001b[39;00m \u001b[38;5;21moptimize\u001b[39m(\n\u001b[1;32m    349\u001b[0m     \u001b[38;5;28mself\u001b[39m,\n\u001b[1;32m    350\u001b[0m     func: ObjectiveFuncType,\n\u001b[0;32m   (...)\u001b[0m\n\u001b[1;32m    357\u001b[0m     show_progress_bar: \u001b[38;5;28mbool\u001b[39m \u001b[38;5;241m=\u001b[39m \u001b[38;5;28;01mFalse\u001b[39;00m,\n\u001b[1;32m    358\u001b[0m ) \u001b[38;5;241m-\u001b[39m\u001b[38;5;241m>\u001b[39m \u001b[38;5;28;01mNone\u001b[39;00m:\n\u001b[1;32m    359\u001b[0m \u001b[38;5;250m    \u001b[39m\u001b[38;5;124;03m\"\"\"Optimize an objective function.\u001b[39;00m\n\u001b[1;32m    360\u001b[0m \n\u001b[1;32m    361\u001b[0m \u001b[38;5;124;03m    Optimization is done by choosing a suitable set of hyperparameter values from a given\u001b[39;00m\n\u001b[0;32m   (...)\u001b[0m\n\u001b[1;32m    449\u001b[0m \u001b[38;5;124;03m            If nested invocation of this method occurs.\u001b[39;00m\n\u001b[1;32m    450\u001b[0m \u001b[38;5;124;03m    \"\"\"\u001b[39;00m\n\u001b[0;32m--> 451\u001b[0m     \u001b[43m_optimize\u001b[49m\u001b[43m(\u001b[49m\n\u001b[1;32m    452\u001b[0m \u001b[43m        \u001b[49m\u001b[43mstudy\u001b[49m\u001b[38;5;241;43m=\u001b[39;49m\u001b[38;5;28;43mself\u001b[39;49m\u001b[43m,\u001b[49m\n\u001b[1;32m    453\u001b[0m \u001b[43m        \u001b[49m\u001b[43mfunc\u001b[49m\u001b[38;5;241;43m=\u001b[39;49m\u001b[43mfunc\u001b[49m\u001b[43m,\u001b[49m\n\u001b[1;32m    454\u001b[0m \u001b[43m        \u001b[49m\u001b[43mn_trials\u001b[49m\u001b[38;5;241;43m=\u001b[39;49m\u001b[43mn_trials\u001b[49m\u001b[43m,\u001b[49m\n\u001b[1;32m    455\u001b[0m \u001b[43m        \u001b[49m\u001b[43mtimeout\u001b[49m\u001b[38;5;241;43m=\u001b[39;49m\u001b[43mtimeout\u001b[49m\u001b[43m,\u001b[49m\n\u001b[1;32m    456\u001b[0m \u001b[43m        \u001b[49m\u001b[43mn_jobs\u001b[49m\u001b[38;5;241;43m=\u001b[39;49m\u001b[43mn_jobs\u001b[49m\u001b[43m,\u001b[49m\n\u001b[1;32m    457\u001b[0m \u001b[43m        \u001b[49m\u001b[43mcatch\u001b[49m\u001b[38;5;241;43m=\u001b[39;49m\u001b[38;5;28;43mtuple\u001b[39;49m\u001b[43m(\u001b[49m\u001b[43mcatch\u001b[49m\u001b[43m)\u001b[49m\u001b[43m \u001b[49m\u001b[38;5;28;43;01mif\u001b[39;49;00m\u001b[43m \u001b[49m\u001b[38;5;28;43misinstance\u001b[39;49m\u001b[43m(\u001b[49m\u001b[43mcatch\u001b[49m\u001b[43m,\u001b[49m\u001b[43m \u001b[49m\u001b[43mIterable\u001b[49m\u001b[43m)\u001b[49m\u001b[43m \u001b[49m\u001b[38;5;28;43;01melse\u001b[39;49;00m\u001b[43m \u001b[49m\u001b[43m(\u001b[49m\u001b[43mcatch\u001b[49m\u001b[43m,\u001b[49m\u001b[43m)\u001b[49m\u001b[43m,\u001b[49m\n\u001b[1;32m    458\u001b[0m \u001b[43m        \u001b[49m\u001b[43mcallbacks\u001b[49m\u001b[38;5;241;43m=\u001b[39;49m\u001b[43mcallbacks\u001b[49m\u001b[43m,\u001b[49m\n\u001b[1;32m    459\u001b[0m \u001b[43m        \u001b[49m\u001b[43mgc_after_trial\u001b[49m\u001b[38;5;241;43m=\u001b[39;49m\u001b[43mgc_after_trial\u001b[49m\u001b[43m,\u001b[49m\n\u001b[1;32m    460\u001b[0m \u001b[43m        \u001b[49m\u001b[43mshow_progress_bar\u001b[49m\u001b[38;5;241;43m=\u001b[39;49m\u001b[43mshow_progress_bar\u001b[49m\u001b[43m,\u001b[49m\n\u001b[1;32m    461\u001b[0m \u001b[43m    \u001b[49m\u001b[43m)\u001b[49m\n",
      "File \u001b[0;32m~/opt/anaconda3/envs/mlp/lib/python3.11/site-packages/optuna/study/_optimize.py:62\u001b[0m, in \u001b[0;36m_optimize\u001b[0;34m(study, func, n_trials, timeout, n_jobs, catch, callbacks, gc_after_trial, show_progress_bar)\u001b[0m\n\u001b[1;32m     60\u001b[0m \u001b[38;5;28;01mtry\u001b[39;00m:\n\u001b[1;32m     61\u001b[0m     \u001b[38;5;28;01mif\u001b[39;00m n_jobs \u001b[38;5;241m==\u001b[39m \u001b[38;5;241m1\u001b[39m:\n\u001b[0;32m---> 62\u001b[0m         \u001b[43m_optimize_sequential\u001b[49m\u001b[43m(\u001b[49m\n\u001b[1;32m     63\u001b[0m \u001b[43m            \u001b[49m\u001b[43mstudy\u001b[49m\u001b[43m,\u001b[49m\n\u001b[1;32m     64\u001b[0m \u001b[43m            \u001b[49m\u001b[43mfunc\u001b[49m\u001b[43m,\u001b[49m\n\u001b[1;32m     65\u001b[0m \u001b[43m            \u001b[49m\u001b[43mn_trials\u001b[49m\u001b[43m,\u001b[49m\n\u001b[1;32m     66\u001b[0m \u001b[43m            \u001b[49m\u001b[43mtimeout\u001b[49m\u001b[43m,\u001b[49m\n\u001b[1;32m     67\u001b[0m \u001b[43m            \u001b[49m\u001b[43mcatch\u001b[49m\u001b[43m,\u001b[49m\n\u001b[1;32m     68\u001b[0m \u001b[43m            \u001b[49m\u001b[43mcallbacks\u001b[49m\u001b[43m,\u001b[49m\n\u001b[1;32m     69\u001b[0m \u001b[43m            \u001b[49m\u001b[43mgc_after_trial\u001b[49m\u001b[43m,\u001b[49m\n\u001b[1;32m     70\u001b[0m \u001b[43m            \u001b[49m\u001b[43mreseed_sampler_rng\u001b[49m\u001b[38;5;241;43m=\u001b[39;49m\u001b[38;5;28;43;01mFalse\u001b[39;49;00m\u001b[43m,\u001b[49m\n\u001b[1;32m     71\u001b[0m \u001b[43m            \u001b[49m\u001b[43mtime_start\u001b[49m\u001b[38;5;241;43m=\u001b[39;49m\u001b[38;5;28;43;01mNone\u001b[39;49;00m\u001b[43m,\u001b[49m\n\u001b[1;32m     72\u001b[0m \u001b[43m            \u001b[49m\u001b[43mprogress_bar\u001b[49m\u001b[38;5;241;43m=\u001b[39;49m\u001b[43mprogress_bar\u001b[49m\u001b[43m,\u001b[49m\n\u001b[1;32m     73\u001b[0m \u001b[43m        \u001b[49m\u001b[43m)\u001b[49m\n\u001b[1;32m     74\u001b[0m     \u001b[38;5;28;01melse\u001b[39;00m:\n\u001b[1;32m     75\u001b[0m         \u001b[38;5;28;01mif\u001b[39;00m n_jobs \u001b[38;5;241m==\u001b[39m \u001b[38;5;241m-\u001b[39m\u001b[38;5;241m1\u001b[39m:\n",
      "File \u001b[0;32m~/opt/anaconda3/envs/mlp/lib/python3.11/site-packages/optuna/study/_optimize.py:159\u001b[0m, in \u001b[0;36m_optimize_sequential\u001b[0;34m(study, func, n_trials, timeout, catch, callbacks, gc_after_trial, reseed_sampler_rng, time_start, progress_bar)\u001b[0m\n\u001b[1;32m    156\u001b[0m         \u001b[38;5;28;01mbreak\u001b[39;00m\n\u001b[1;32m    158\u001b[0m \u001b[38;5;28;01mtry\u001b[39;00m:\n\u001b[0;32m--> 159\u001b[0m     frozen_trial \u001b[38;5;241m=\u001b[39m \u001b[43m_run_trial\u001b[49m\u001b[43m(\u001b[49m\u001b[43mstudy\u001b[49m\u001b[43m,\u001b[49m\u001b[43m \u001b[49m\u001b[43mfunc\u001b[49m\u001b[43m,\u001b[49m\u001b[43m \u001b[49m\u001b[43mcatch\u001b[49m\u001b[43m)\u001b[49m\n\u001b[1;32m    160\u001b[0m \u001b[38;5;28;01mfinally\u001b[39;00m:\n\u001b[1;32m    161\u001b[0m     \u001b[38;5;66;03m# The following line mitigates memory problems that can be occurred in some\u001b[39;00m\n\u001b[1;32m    162\u001b[0m     \u001b[38;5;66;03m# environments (e.g., services that use computing containers such as GitHub Actions).\u001b[39;00m\n\u001b[1;32m    163\u001b[0m     \u001b[38;5;66;03m# Please refer to the following PR for further details:\u001b[39;00m\n\u001b[1;32m    164\u001b[0m     \u001b[38;5;66;03m# https://github.com/optuna/optuna/pull/325.\u001b[39;00m\n\u001b[1;32m    165\u001b[0m     \u001b[38;5;28;01mif\u001b[39;00m gc_after_trial:\n",
      "File \u001b[0;32m~/opt/anaconda3/envs/mlp/lib/python3.11/site-packages/optuna/study/_optimize.py:247\u001b[0m, in \u001b[0;36m_run_trial\u001b[0;34m(study, func, catch)\u001b[0m\n\u001b[1;32m    240\u001b[0m         \u001b[38;5;28;01massert\u001b[39;00m \u001b[38;5;28;01mFalse\u001b[39;00m, \u001b[38;5;124m\"\u001b[39m\u001b[38;5;124mShould not reach.\u001b[39m\u001b[38;5;124m\"\u001b[39m\n\u001b[1;32m    242\u001b[0m \u001b[38;5;28;01mif\u001b[39;00m (\n\u001b[1;32m    243\u001b[0m     frozen_trial\u001b[38;5;241m.\u001b[39mstate \u001b[38;5;241m==\u001b[39m TrialState\u001b[38;5;241m.\u001b[39mFAIL\n\u001b[1;32m    244\u001b[0m     \u001b[38;5;129;01mand\u001b[39;00m func_err \u001b[38;5;129;01mis\u001b[39;00m \u001b[38;5;129;01mnot\u001b[39;00m \u001b[38;5;28;01mNone\u001b[39;00m\n\u001b[1;32m    245\u001b[0m     \u001b[38;5;129;01mand\u001b[39;00m \u001b[38;5;129;01mnot\u001b[39;00m \u001b[38;5;28misinstance\u001b[39m(func_err, catch)\n\u001b[1;32m    246\u001b[0m ):\n\u001b[0;32m--> 247\u001b[0m     \u001b[38;5;28;01mraise\u001b[39;00m func_err\n\u001b[1;32m    248\u001b[0m \u001b[38;5;28;01mreturn\u001b[39;00m frozen_trial\n",
      "File \u001b[0;32m~/opt/anaconda3/envs/mlp/lib/python3.11/site-packages/optuna/study/_optimize.py:196\u001b[0m, in \u001b[0;36m_run_trial\u001b[0;34m(study, func, catch)\u001b[0m\n\u001b[1;32m    194\u001b[0m \u001b[38;5;28;01mwith\u001b[39;00m get_heartbeat_thread(trial\u001b[38;5;241m.\u001b[39m_trial_id, study\u001b[38;5;241m.\u001b[39m_storage):\n\u001b[1;32m    195\u001b[0m     \u001b[38;5;28;01mtry\u001b[39;00m:\n\u001b[0;32m--> 196\u001b[0m         value_or_values \u001b[38;5;241m=\u001b[39m \u001b[43mfunc\u001b[49m\u001b[43m(\u001b[49m\u001b[43mtrial\u001b[49m\u001b[43m)\u001b[49m\n\u001b[1;32m    197\u001b[0m     \u001b[38;5;28;01mexcept\u001b[39;00m exceptions\u001b[38;5;241m.\u001b[39mTrialPruned \u001b[38;5;28;01mas\u001b[39;00m e:\n\u001b[1;32m    198\u001b[0m         \u001b[38;5;66;03m# TODO(mamu): Handle multi-objective cases.\u001b[39;00m\n\u001b[1;32m    199\u001b[0m         state \u001b[38;5;241m=\u001b[39m TrialState\u001b[38;5;241m.\u001b[39mPRUNED\n",
      "Cell \u001b[0;32mIn[50], line 23\u001b[0m, in \u001b[0;36mobjective\u001b[0;34m(trial)\u001b[0m\n\u001b[1;32m     21\u001b[0m Xtr, Xte, Ytr, Yte \u001b[38;5;241m=\u001b[39m dataset\u001b[38;5;241m.\u001b[39mtrain_test_split(test_size\u001b[38;5;241m=\u001b[39m\u001b[38;5;241m0.2\u001b[39m)\n\u001b[1;32m     22\u001b[0m ksvm \u001b[38;5;241m=\u001b[39m KSVM(partial(KmerKernel, kmin\u001b[38;5;241m=\u001b[39mkmin, kmax\u001b[38;5;241m=\u001b[39mkmax), C\u001b[38;5;241m=\u001b[39mC, tol\u001b[38;5;241m=\u001b[39m\u001b[38;5;241m1e-5\u001b[39m)\n\u001b[0;32m---> 23\u001b[0m alpha, beta \u001b[38;5;241m=\u001b[39m \u001b[43mksvm\u001b[49m\u001b[38;5;241;43m.\u001b[39;49m\u001b[43mfit\u001b[49m\u001b[43m(\u001b[49m\u001b[43mXtr\u001b[49m\u001b[43m,\u001b[49m\u001b[43m \u001b[49m\u001b[43mYtr\u001b[49m\u001b[43m)\u001b[49m\n\u001b[1;32m     24\u001b[0m score \u001b[38;5;241m=\u001b[39m ksvm\u001b[38;5;241m.\u001b[39mscore_recall_precision(Xte, Yte)\n\u001b[1;32m     25\u001b[0m mean_accuracy \u001b[38;5;241m+\u001b[39m\u001b[38;5;241m=\u001b[39m score\u001b[38;5;241m.\u001b[39maccuracy\n",
      "Cell \u001b[0;32mIn[47], line 76\u001b[0m, in \u001b[0;36mKSVM.fit\u001b[0;34m(self, data, labels)\u001b[0m\n\u001b[1;32m     73\u001b[0m \u001b[38;5;28;01mfor\u001b[39;00m sv \u001b[38;5;129;01min\u001b[39;00m support_vectors:\n\u001b[1;32m     74\u001b[0m     intercept \u001b[38;5;241m+\u001b[39m\u001b[38;5;241m=\u001b[39m y[sv]\n\u001b[1;32m     75\u001b[0m     intercept \u001b[38;5;241m-\u001b[39m\u001b[38;5;241m=\u001b[39m np\u001b[38;5;241m.\u001b[39msum(\n\u001b[0;32m---> 76\u001b[0m         \u001b[43malpha\u001b[49m\u001b[43m[\u001b[49m\u001b[43msupport_vectors\u001b[49m\u001b[43m,\u001b[49m\u001b[43m \u001b[49m\u001b[38;5;28;43;01mNone\u001b[39;49;00m\u001b[43m]\u001b[49m\u001b[43m \u001b[49m\u001b[38;5;241;43m*\u001b[39;49m\u001b[43m \u001b[49m\u001b[43mK\u001b[49m\u001b[43m[\u001b[49m\u001b[43msv\u001b[49m\u001b[43m,\u001b[49m\u001b[43m \u001b[49m\u001b[43msupport_vectors\u001b[49m\u001b[43m]\u001b[49m)\n\u001b[1;32m     77\u001b[0m \u001b[38;5;28;01mif\u001b[39;00m \u001b[38;5;28mlen\u001b[39m(support_vectors) \u001b[38;5;241m>\u001b[39m \u001b[38;5;241m0\u001b[39m:\n\u001b[1;32m     78\u001b[0m     intercept \u001b[38;5;241m/\u001b[39m\u001b[38;5;241m=\u001b[39m \u001b[38;5;28mlen\u001b[39m(support_vectors)\n",
      "File \u001b[0;32m~/opt/anaconda3/envs/mlp/lib/python3.11/site-packages/numpy/matrixlib/defmatrix.py:225\u001b[0m, in \u001b[0;36mmatrix.__rmul__\u001b[0;34m(self, other)\u001b[0m\n\u001b[1;32m    224\u001b[0m \u001b[38;5;28;01mdef\u001b[39;00m \u001b[38;5;21m__rmul__\u001b[39m(\u001b[38;5;28mself\u001b[39m, other):\n\u001b[0;32m--> 225\u001b[0m     \u001b[38;5;28;01mreturn\u001b[39;00m \u001b[43mN\u001b[49m\u001b[38;5;241;43m.\u001b[39;49m\u001b[43mdot\u001b[49m\u001b[43m(\u001b[49m\u001b[43mother\u001b[49m\u001b[43m,\u001b[49m\u001b[43m \u001b[49m\u001b[38;5;28;43mself\u001b[39;49m\u001b[43m)\u001b[49m\n",
      "\u001b[0;31mKeyboardInterrupt\u001b[0m: "
     ]
    }
   ],
   "source": [
    "import optuna\n",
    "from tqdm import tqdm\n",
    "\n",
    "cv = 3  \n",
    "best_params_per_idx = {}\n",
    "\n",
    "for train_idx in range(3):\n",
    "    print(f\"Optimizing hyperparameters for train_idx={train_idx}\")\n",
    "    dataset = Dataset(train_idx=train_idx)\n",
    "\n",
    "    def objective(trial):\n",
    "        kmin = trial.suggest_categorical(\"kmin\", [3, 5, 7, 9, 11])\n",
    "        kmax = trial.suggest_categorical(\"kmax\", [12, 15, 18, 20, 22, 25])\n",
    "        C = trial.suggest_categorical(\"C\", [0.01, 0.1, 1, 2, 5])\n",
    "\n",
    "        if kmin >= kmax:\n",
    "            return 0  # Invalid combination\n",
    "\n",
    "        mean_accuracy = 0\n",
    "        for _ in range(cv):\n",
    "            Xtr, Xte, Ytr, Yte = dataset.train_test_split(test_size=0.2)\n",
    "            ksvm = KSVM(partial(KmerKernel, kmin=kmin, kmax=kmax), C=C, tol=1e-5)\n",
    "            alpha, beta = ksvm.fit(Xtr, Ytr)\n",
    "            score = ksvm.score_recall_precision(Xte, Yte)\n",
    "            mean_accuracy += score.accuracy\n",
    "        \n",
    "        return mean_accuracy / cv\n",
    "\n",
    "    study = optuna.create_study(direction=\"maximize\")\n",
    "    study.optimize(objective, n_trials=50, show_progress_bar=True, n_jobs=1)\n",
    "\n",
    "    best_params_per_idx[train_idx] = {\"SVM\": study.best_params}\n",
    "    print(f\"Best parameters for train_idx={train_idx}: {study.best_params}, Accuracy={study.best_value:.4f}\")\n",
    "\n",
    "# Summary of best parameters\n",
    "print(\"Final best parameters:\")\n",
    "for idx, params in best_params_per_idx.items():\n",
    "    print(f\"train_idx={idx}: SVM: {params['SVM']}\")\n"
   ]
  },
  {
   "cell_type": "code",
   "execution_count": null,
   "metadata": {},
   "outputs": [],
   "source": []
  },
  {
   "cell_type": "code",
   "execution_count": null,
   "metadata": {},
   "outputs": [],
   "source": []
  },
  {
   "cell_type": "code",
   "execution_count": null,
   "metadata": {},
   "outputs": [],
   "source": []
  }
 ],
 "metadata": {
  "kernelspec": {
   "display_name": "mlp",
   "language": "python",
   "name": "python3"
  },
  "language_info": {
   "codemirror_mode": {
    "name": "ipython",
    "version": 3
   },
   "file_extension": ".py",
   "mimetype": "text/x-python",
   "name": "python",
   "nbconvert_exporter": "python",
   "pygments_lexer": "ipython3",
   "version": "3.11.9"
  }
 },
 "nbformat": 4,
 "nbformat_minor": 2
}
